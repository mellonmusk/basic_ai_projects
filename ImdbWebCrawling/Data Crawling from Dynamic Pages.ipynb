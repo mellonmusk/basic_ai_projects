{
 "cells": [
  {
   "cell_type": "code",
   "execution_count": 1,
   "id": "f2eab37f-65b6-4183-8f56-3bec9aabc252",
   "metadata": {},
   "outputs": [
    {
     "name": "stdout",
     "output_type": "stream",
     "text": [
      "Requirement already satisfied: selenium in c:\\users\\peach\\anaconda3\\lib\\site-packages (4.25.0)\n",
      "Requirement already satisfied: urllib3[socks]<3,>=1.26 in c:\\users\\peach\\anaconda3\\lib\\site-packages (from selenium) (2.2.2)\n",
      "Requirement already satisfied: trio~=0.17 in c:\\users\\peach\\anaconda3\\lib\\site-packages (from selenium) (0.26.2)\n",
      "Requirement already satisfied: trio-websocket~=0.9 in c:\\users\\peach\\anaconda3\\lib\\site-packages (from selenium) (0.11.1)\n",
      "Requirement already satisfied: certifi>=2021.10.8 in c:\\users\\peach\\anaconda3\\lib\\site-packages (from selenium) (2024.7.4)\n",
      "Requirement already satisfied: typing_extensions~=4.9 in c:\\users\\peach\\anaconda3\\lib\\site-packages (from selenium) (4.11.0)\n",
      "Requirement already satisfied: websocket-client~=1.8 in c:\\users\\peach\\anaconda3\\lib\\site-packages (from selenium) (1.8.0)\n",
      "Requirement already satisfied: attrs>=23.2.0 in c:\\users\\peach\\anaconda3\\lib\\site-packages (from trio~=0.17->selenium) (24.2.0)\n",
      "Requirement already satisfied: sortedcontainers in c:\\users\\peach\\anaconda3\\lib\\site-packages (from trio~=0.17->selenium) (2.4.0)\n",
      "Requirement already satisfied: idna in c:\\users\\peach\\anaconda3\\lib\\site-packages (from trio~=0.17->selenium) (3.7)\n",
      "Requirement already satisfied: outcome in c:\\users\\peach\\anaconda3\\lib\\site-packages (from trio~=0.17->selenium) (1.3.0.post0)\n",
      "Requirement already satisfied: sniffio>=1.3.0 in c:\\users\\peach\\anaconda3\\lib\\site-packages (from trio~=0.17->selenium) (1.3.0)\n",
      "Requirement already satisfied: cffi>=1.14 in c:\\users\\peach\\anaconda3\\lib\\site-packages (from trio~=0.17->selenium) (1.16.0)\n",
      "Requirement already satisfied: wsproto>=0.14 in c:\\users\\peach\\anaconda3\\lib\\site-packages (from trio-websocket~=0.9->selenium) (1.2.0)\n",
      "Requirement already satisfied: pysocks!=1.5.7,<2.0,>=1.5.6 in c:\\users\\peach\\anaconda3\\lib\\site-packages (from urllib3[socks]<3,>=1.26->selenium) (1.7.1)\n",
      "Requirement already satisfied: pycparser in c:\\users\\peach\\anaconda3\\lib\\site-packages (from cffi>=1.14->trio~=0.17->selenium) (2.21)\n",
      "Requirement already satisfied: h11<1,>=0.9.0 in c:\\users\\peach\\anaconda3\\lib\\site-packages (from wsproto>=0.14->trio-websocket~=0.9->selenium) (0.14.0)\n"
     ]
    }
   ],
   "source": [
    "# install selenium\n",
    "!pip install selenium"
   ]
  },
  {
   "cell_type": "code",
   "execution_count": 2,
   "id": "b64d5478-e402-45b4-81c0-8c1bc05cb7b2",
   "metadata": {},
   "outputs": [
    {
     "name": "stdout",
     "output_type": "stream",
     "text": [
      "Example Domain\n"
     ]
    }
   ],
   "source": [
    "from selenium import webdriver\n",
    "from selenium.webdriver.common.by import By\n",
    "\n",
    "# Launch the browser driver\n",
    "driver = webdriver.Chrome()\n",
    "\n",
    "# Open a webpage\n",
    "driver.get('https://example.com')\n",
    "\n",
    "# Print the page title\n",
    "print(driver.title)\n",
    "\n",
    "# Close the browser\n",
    "driver.quit()"
   ]
  },
  {
   "cell_type": "code",
   "execution_count": null,
   "id": "6817e602-35a4-4e37-b6f9-c1c2cac811e8",
   "metadata": {},
   "outputs": [],
   "source": [
    "# XPath\n",
    "# XML path expression to select specific elements on a web page\n",
    "# Useful for finding elements in complex DOM structures\n",
    "element = driver.find_element(By.XPATH, '//div[@class=\"content\"]')"
   ]
  },
  {
   "cell_type": "code",
   "execution_count": null,
   "id": "852cd09b-7dd6-4c9e-8632-93027e90d9fa",
   "metadata": {},
   "outputs": [],
   "source": [
    "# CSS Selector\n",
    "# Uses CSS selectors to find elements based on styles applied to them.\n",
    "element = driver.find_element(By.CSS_SELECTOR, 'div.content')"
   ]
  },
  {
   "cell_type": "markdown",
   "id": "b686abab-0d47-42a7-a0fa-5e342dbcec92",
   "metadata": {},
   "source": [
    "Click a button : element.click()  \n",
    "\n",
    "Enter text : element.send_keys()  \n",
    "\n",
    "Clear text : element.clear()  \n",
    "\n",
    "Select from a dropdown : use the Select class"
   ]
  },
  {
   "cell_type": "code",
   "execution_count": null,
   "id": "5c18315d-6528-48bf-af81-94926b6d446a",
   "metadata": {},
   "outputs": [],
   "source": [
    "from selenium import webdriver\n",
    "from selenium.webdriver.common.by import By\n",
    "\n",
    "# Launch the browser driver\n",
    "driver = webdriver.Chrome()\n",
    "\n",
    "# Open a webpage\n",
    "driver.get('https://example.com')\n",
    "\n",
    "# Find the button element\n",
    "button = driver.find_element(By.ID, 'button-id')\n",
    "# Click the button\n",
    "button.click()\n",
    "\n",
    "# Find the input field element\n",
    "input_field = driver.find_element(By.NAME, 'username')\n",
    "# Enter text\n",
    "input_field.send_keys('example_user')\n",
    "\n",
    "# Clear text\n",
    "input_field.clear()\n",
    "\n",
    "# Close the browser\n",
    "driver.quit()"
   ]
  },
  {
   "cell_type": "code",
   "execution_count": null,
   "id": "6965149c-7a79-4c4c-9bd9-416f4dd7839b",
   "metadata": {},
   "outputs": [],
   "source": [
    "from selenium.webdriver.support.ui import Select\n",
    "\n",
    "# Find the dropdown element\n",
    "downdrop = Select(driver.find_element(By.ID, 'dropdown-id'))\n",
    "\n",
    "# Select options(by value, index, or visible text)\n",
    "droppdown.select_by_value('fedex')        # select by value attribute\n",
    "droppdown.select_by_index(2)              # select by index (0-based)\n",
    "droppdown.select_by_visible_text('FedEx')"
   ]
  },
  {
   "cell_type": "markdown",
   "id": "0e3c8af7-1e3d-4beb-b03f-ec35def19748",
   "metadata": {},
   "source": [
    "Hover over an element"
   ]
  },
  {
   "cell_type": "code",
   "execution_count": null,
   "id": "a73cd913-c32d-4c68-9a82-fa2515a71091",
   "metadata": {},
   "outputs": [],
   "source": [
    "from selenium.webdriver.common.action_chains import ActionChains\n",
    "\n",
    "# find an element\n",
    "element = driver.find_element(By.ID, 'hover-element-id')\n",
    "\n",
    "# perform the hover action\n",
    "action = ActionChains(driver)\n",
    "action.move_to_element(element).perform()"
   ]
  },
  {
   "cell_type": "markdown",
   "id": "fb6188c8-041a-4453-a0c5-fdbf222a5a64",
   "metadata": {},
   "source": [
    "Handling asynchronous loading  \n",
    "In dynamic pages, JavaScript might load contents after the page is loaded, leading to issues if the crawler tries \n",
    "to scrape the page too early"
   ]
  },
  {
   "cell_type": "code",
   "execution_count": null,
   "id": "d25823d2-e7ed-4df0-ad0a-a8e7c5a16530",
   "metadata": {},
   "outputs": [],
   "source": [
    "# implicit wait\n",
    "driver.implicitly_wait(10)  # wait for 10s"
   ]
  },
  {
   "cell_type": "code",
   "execution_count": null,
   "id": "84701dad-33e9-4adf-8305-782de1d02795",
   "metadata": {},
   "outputs": [],
   "source": [
    "# explicit wait\n",
    "from selenium.webdriver.common.by import By \n",
    "from selenium.webdriver.support.ui import WebDriverWait \n",
    "from selenium.webdriver.support import expected_conditions as EC \n",
    "element = WebDriverWait(driver, 10).until( # Wait until a specific condition is met\n",
    "    EC.presence_of_element_located((By.ID, 'element-id')) \n",
    ")"
   ]
  },
  {
   "cell_type": "markdown",
   "id": "03f24d36-fa9c-4267-8cf2-ef7b76c3bae2",
   "metadata": {},
   "source": [
    "<h2>IMDB review crawling</h2>\n",
    "\n",
    "\"John Wick: Chapter 4\" 의 모든 리뷰를 crawling함\n",
    "\n",
    "https://www.imdb.com/title/tt10366206/reviews/?ref_=tt_urv_sm\n",
    "\n",
    "- 리뷰의 별점과 text를 모두 crawling해서 csv파일로 저장\n",
    "- https://www.imdb.com/title/tt10366206/ratings/?ref_=tt_ov_rt 처럼 별점을 이용해 바 그래프 만들기"
   ]
  },
  {
   "cell_type": "markdown",
   "id": "11b303d6-d3cf-4266-b4b3-71305ac80ccc",
   "metadata": {},
   "source": [
    "1.selenium이란 무엇인지 설명하세요.\n",
    "2.html/css/javascript의 역할에 대해서 조사하여 작성하세요.\n",
    "\n",
    "❑ 학번_이름_imdb_reviews.pdf\r\n",
    "❑ 자신의 영화 제목, 리뷰 Bar graph를 첨부하여 제출한다\n",
    "\n",
    "1.실습에서 사용한 크롤링 코드를 첨부하고, 설명하세요.\r\n",
    "2.데이터 csv 파일의 일부를 캡쳐하여 첨부하세요.\r\n",
    "3.영화 제목과 리뷰 평점 bar graph를 첨부하고, 각 점수마다 리뷰 한 개씩 선택하여 어떤 리뷰가 해당 점수를주\r\n",
    "었는지 작성하세요."
   ]
  },
  {
   "cell_type": "code",
   "execution_count": 2,
   "id": "1177f7ac-b1ff-4f79-a95d-acbe8b9217b7",
   "metadata": {},
   "outputs": [],
   "source": [
    "from selenium import webdriver\n",
    "from selenium.webdriver.common.by import By\n",
    "from selenium.webdriver.common.action_chains import ActionChains\n",
    "from selenium.webdriver.support.ui import WebDriverWait \n",
    "from selenium.webdriver.support import expected_conditions as EC \n",
    "from selenium.common.exceptions import NoSuchElementException\n",
    "import csv\n",
    "\n",
    "# Launch the browser driver\n",
    "driver = webdriver.Chrome()\n",
    "# Open a webpage\n",
    "driver.get('https://www.imdb.com/title/tt10366206/reviews/?ref_=tt_urv_sm')\n",
    "\n",
    "while True:\n",
    "    try:\n",
    "        driver.implicitly_wait(2)  # wait for 2s\n",
    "        button = driver.find_element(By.XPATH, '//*[@id=\"__next\"]/main/div/section/div/section/div/div[1]/section[1]/div[3]/div/span[2]') #All\n",
    "    except NoSuchElementException:\n",
    "        driver.close()\n",
    "        driver = webdriver.Chrome()\n",
    "        driver.get('https://www.imdb.com/title/tt10366206/reviews/?ref_=tt_urv_sm')\n",
    "        continue;\n",
    "    ActionChains(driver)\\\n",
    "        .scroll_to_element(button)\\\n",
    "        .click(button)\\\n",
    "        .perform()\n",
    "    \n",
    "    element = WebDriverWait(driver, 100).until( # Wait until a specific condition is met (when \"2 more\" appears)\n",
    "        EC.presence_of_element_located((By.XPATH, \"//span[text()='2 more']\"))\n",
    "    )\n",
    "    # press \"2 more\"\n",
    "    two_more_button = driver.find_element(By.XPATH, \"//span[text()='2 more']\")\n",
    "    \n",
    "    ActionChains(driver)\\\n",
    "        .scroll_to_element(two_more_button)\\\n",
    "        .click(two_more_button)\\\n",
    "        .perform()\n",
    "    \n",
    "    # Find all \"Spoiler\" buttons using CSS Selector\n",
    "    spoiler_buttons = driver.find_elements(By.CSS_SELECTOR, 'button.review-spoiler-button')\n",
    "\n",
    "    # Click each button\n",
    "    for btn in spoiler_buttons:\n",
    "        ActionChains(driver)\\\n",
    "        .scroll_to_element(btn)\\\n",
    "        .click(btn)\\\n",
    "        .perform()\n",
    "\n",
    "    \n",
    "    reviews = driver.find_elements(By.CSS_SELECTOR, 'article.sc-2b6c2ed6-1.gHSlW.user-review-item')\n",
    "    break;"
   ]
  },
  {
   "cell_type": "code",
   "execution_count": 3,
   "id": "f9564eca-8f33-4ba8-b4ca-03f0615fcc78",
   "metadata": {},
   "outputs": [],
   "source": [
    "data = []\n",
    "\n",
    "for review in reviews:\n",
    "    review_text = review.find_element(By.CSS_SELECTOR, 'div.ipc-html-content-inner-div').text\n",
    "    \n",
    "        \n",
    "    try:\n",
    "        # Find rating using the updated class\n",
    "        star_rating = review.find_element(By.CSS_SELECTOR, 'span.ipc-rating-star--rating').text\n",
    "    except NoSuchElementException:\n",
    "        star_rating = 'No rating'\n",
    "    data.append([star_rating, review_text])"
   ]
  },
  {
   "cell_type": "code",
   "execution_count": 4,
   "id": "ede4b743-dca8-46ce-a1ab-271526d1f3b3",
   "metadata": {},
   "outputs": [],
   "source": [
    "# Save to CSV\n",
    "with open('reviews.csv', mode='w', newline='', encoding='utf-8') as file:\n",
    "    writer = csv.writer(file)\n",
    "    writer.writerow(['Rating', 'Review'])\n",
    "    writer.writerows(data)\n",
    "\n",
    "# Close the browser\n",
    "#driver.quit()\n"
   ]
  },
  {
   "cell_type": "code",
   "execution_count": 5,
   "id": "051779d4-b53c-4dad-bb0d-0ee3247a9850",
   "metadata": {},
   "outputs": [
    {
     "data": {
      "image/png": "[encoded data removed]",
      "text/plain": [
       "<Figure size 640x480 with 1 Axes>"
      ]
     },
     "metadata": {},
     "output_type": "display_data"
    }
   ],
   "source": [
    "import matplotlib.pyplot as plt\n",
    "import csv\n",
    "\n",
    "# Read data from the CSV file\n",
    "ratings = []\n",
    "with open('reviews.csv', mode='r', newline='', encoding='utf-8') as file:\n",
    "    reader = csv.DictReader(file)\n",
    "    for row in reader:\n",
    "        if row['Rating'] != 'No rating':\n",
    "            ratings.append(int(row['Rating']))\n",
    "\n",
    "# Count the frequency of each rating\n",
    "rating_counts = {}\n",
    "for rating in ratings:\n",
    "    if rating in rating_counts:\n",
    "        rating_counts[rating] += 1\n",
    "    else:\n",
    "        rating_counts[rating] = 1\n",
    "\n",
    "# Calculate the percentage of each rating\n",
    "total_reviews = sum(rating_counts.values())\n",
    "rating_percentages = {rating: (count / total_reviews) * 100 for rating, count in rating_counts.items()}\n",
    "\n",
    "# Create the bar graph\n",
    "bars = plt.barh(list(rating_counts.keys()), list(rating_counts.values()), color='#ebcc00', tick_label=list(rating_counts.keys()))\n",
    "\n",
    "# Add text annotations for each bar\n",
    "for bar in bars:\n",
    "    width = bar.get_width()\n",
    "    plt.text(width, bar.get_y() + bar.get_height()/2, f'{width/total_reviews:.1%} ({int(width)})', ha='left', va='center', size=8)\n",
    "\n",
    "plt.xlim([0, 450])     \n",
    "plt.ylabel('Ratings')\n",
    "plt.xlabel('Frequency')\n",
    "plt.title('User Ratings')\n",
    "plt.savefig(\"User Ratings.jpg\")\n",
    "plt.show()\n"
   ]
  }
 ],
 "metadata": {
  "kernelspec": {
   "display_name": "Python 3 (ipykernel)",
   "language": "python",
   "name": "python3"
  },
  "language_info": {
   "codemirror_mode": {
    "name": "ipython",
    "version": 3
   },
   "file_extension": ".py",
   "mimetype": "text/x-python",
   "name": "python",
   "nbconvert_exporter": "python",
   "pygments_lexer": "ipython3",
   "version": "3.11.5"
  }
 },
 "nbformat": 4,
 "nbformat_minor": 5
}
